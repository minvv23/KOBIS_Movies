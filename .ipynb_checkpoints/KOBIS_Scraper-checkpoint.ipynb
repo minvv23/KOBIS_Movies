{
 "cells": [
  {
   "cell_type": "code",
   "execution_count": 1,
   "metadata": {},
   "outputs": [],
   "source": [
    "from bs4 import BeautifulSoup\n",
    "from IPython.display import clear_output\n",
    "from datetime import date, datetime, timedelta\n",
    "from tqdm import tqdm\n",
    "import urllib, urllib3\n",
    "import requests, urllib.request, urllib.parse, csv, re, time, os, numpy as np, pandas as pd, json\n",
    "key_minvv23 = '290dac7fcac7c640c069ced9e576bc00'"
   ]
  },
  {
   "cell_type": "code",
   "execution_count": 2,
   "metadata": {},
   "outputs": [],
   "source": [
    "company_basicurl = 'http://kobis.or.kr/kobisopenapi/webservice/rest/company/searchCompanyList.json?key={key}&companyNm={company}'\n",
    "company_detailurl = 'http://kobis.or.kr/kobisopenapi/webservice/rest/company/searchCompanyInfo.json?key={key}&companyCd={companycode}'\n",
    "warner_search = json.loads(urllib.request.urlopen(company_basicurl.format(key=key_minvv23, company='Warner')).read())\n",
    "warner_codes = [each['companyCd'] for each in warner_search['companyListResult']['companyList'][:2]]"
   ]
  },
  {
   "cell_type": "code",
   "execution_count": 3,
   "metadata": {},
   "outputs": [],
   "source": [
    "movie_codes = []\n",
    "\n",
    "for each_companycode in warner_codes :\n",
    "    warner_info = json.loads(urllib.request.urlopen(company_detailurl.format(key=key_minvv23, companycode=each_companycode)).read())\n",
    "    for each in warner_info['companyInfoResult']['companyInfo']['filmos'] :\n",
    "        movie_codes.append(int(each['movieCd']))\n",
    "\n",
    "movie_codes = list(filter(lambda x : x>20100000, set(movie_codes)))"
   ]
  },
  {
   "cell_type": "code",
   "execution_count": 4,
   "metadata": {},
   "outputs": [],
   "source": [
    "movie_info = 'http://www.kobis.or.kr/kobisopenapi/webservice/rest/movie/searchMovieInfo.json?key={key}&movieCd={movie_code}'"
   ]
  },
  {
   "cell_type": "code",
   "execution_count": 5,
   "metadata": {},
   "outputs": [],
   "source": [
    "wb_weblist = []\n",
    "for each_code in movie_codes :\n",
    "    movieapi = json.loads(urllib.request.urlopen(movie_info.format(key=key_minvv23, movie_code=each_code)).read())\n",
    "    wb_weblist.append([movieapi['movieInfoResult']['movieInfo']['movieNmEn'], movieapi['movieInfoResult']['movieInfo']['movieCd']])"
   ]
  },
  {
   "cell_type": "code",
   "execution_count": 13,
   "metadata": {},
   "outputs": [],
   "source": [
    "wb_csvlist = pd.read_csv('WB_Movies.csv')\n",
    "wb_csvlist['theater_release'] = np.vectorize(lambda x : ''.join(re.findall(r'\\d+', x)))(wb_csvlist['theater_release'].values)\n",
    "wb_csvlist['vod_release'] = np.vectorize(lambda x : ''.join(re.findall(r'\\d+', x)))(wb_csvlist['vod_release'].values)"
   ]
  },
  {
   "cell_type": "code",
   "execution_count": 19,
   "metadata": {},
   "outputs": [],
   "source": [
    "for each_movie in wb_weblist :\n",
    "    each_movie.append(''.join(each_movie[0].lower().split()))"
   ]
  },
  {
   "cell_type": "code",
   "execution_count": 16,
   "metadata": {},
   "outputs": [
    {
     "data": {
      "text/plain": [
       "['duedate',\n",
       " 'dunkirk',\n",
       " 'rampage',\n",
       " 'bringmehome',\n",
       " 'thenun',\n",
       " 'thefountainhead',\n",
       " 'jackthegiantslayer',\n",
       " 'harrypotterandthedeathlyhallows:parti',\n",
       " 'hereafter',\n",
       " 'theseachase',\n",
       " 'darkshadows',\n",
       " 'them',\n",
       " 'sully',\n",
       " 'illang:thewolfbrigade',\n",
       " 'thehobbit:thebattleofthefivearmies',\n",
       " 'redridinghood',\n",
       " 'journey2:themysteriousisland',\n",
       " 'thewitch:part1.thesubversion',\n",
       " 'giant',\n",
       " 'thegreatgatsby',\n",
       " 'pan',\n",
       " 'inherentvice',\n",
       " 'suckerpunch',\n",
       " 'collateralbeauty',\n",
       " 'thelegobatmanmovie',\n",
       " 'thehangoverpartii',\n",
       " 'thelegomovie2:thesecondpart',\n",
       " 'readyplayerone',\n",
       " 'thehobbit:thedesolationofsmaug',\n",
       " 'theconjuring2',\n",
       " 'thecurseoflallorona',\n",
       " 'themanfromu.n.c.l.e.',\n",
       " 'batmanvsuperman:dawnofjustice',\n",
       " 'jopil-ho:thedawningrage',\n",
       " 'happyfeet2in3d',\n",
       " 'thelegomovie',\n",
       " 'annabellecomeshome',\n",
       " 'themeg',\n",
       " 'thegallows',\n",
       " 'sanandreas',\n",
       " 'intheheartofthesea',\n",
       " 'annabelle:creation',\n",
       " 'edgeoftomorrow',\n",
       " 'champion',\n",
       " 'thehangingtree',\n",
       " 'thehelenmorganstory',\n",
       " 'thehighandthemighty',\n",
       " 'madmax:furyroad',\n",
       " 'bloodalley',\n",
       " 'runallnight',\n",
       " 'suicidesquad',\n",
       " 'mebeforeyou',\n",
       " 'lightsout',\n",
       " 'finaldestination5',\n",
       " 'it',\n",
       " 'jupiterascending',\n",
       " 'contagion',\n",
       " 'theanimalworld)',\n",
       " 'thecorruptones',\n",
       " 'therite',\n",
       " 'strangeladyintown',\n",
       " 'geostorm',\n",
       " 'interstellar',\n",
       " 'jesters:thegamechangers(w/t)',\n",
       " 'creedii',\n",
       " 'shazam!',\n",
       " 'thehangoverpartiii',\n",
       " 'clashofthetitans',\n",
       " 'focus',\n",
       " 'pacificrim',\n",
       " 'invictus',\n",
       " 'wrathofthetitans',\n",
       " '300:riseofanempire',\n",
       " 'blowingwild',\n",
       " 'hondo',\n",
       " 'annabelle',\n",
       " 'theblindside',\n",
       " 'thelegendoftarzan',\n",
       " 'anightmareonelmstreet',\n",
       " 'kingarthur:legendofthesword',\n",
       " 'theageofshadows',\n",
       " 'theflameandthearrow',\n",
       " 'captainhoratiohornblower',\n",
       " 'asinglerider',\n",
       " 'sexandthecity2',\n",
       " 'pokemondetectivepikachu',\n",
       " 'gravity',\n",
       " 'inception',\n",
       " 'taskforce',\n",
       " 'sherlockholmes:agameofshadows',\n",
       " 'bendoftheriver',\n",
       " 'thetown',\n",
       " 'battlecry',\n",
       " 'storks',\n",
       " 'thedarkknightrises',\n",
       " 'hercules',\n",
       " 'greenlantern',\n",
       " 'aquaman',\n",
       " 'drumbeat',\n",
       " 'rockofages',\n",
       " 'thehobbit:anunexpectedjourney',\n",
       " 'crazyrichasians',\n",
       " 'theburninghills',\n",
       " 'kong:skullisland',\n",
       " 'justiceleague',\n",
       " 'brinkofhell',\n",
       " 'astarisborn',\n",
       " 'thebigtrees',\n",
       " 'intothestorm',\n",
       " 'theconjuring',\n",
       " 'wonderwoman',\n",
       " 'horriblebosses',\n",
       " 'v.i.p.',\n",
       " 'tombraider',\n",
       " 'thedoubleman',\n",
       " 'thelegoninjagomovie',\n",
       " 'americansniper',\n",
       " 'harrypotterandthedeathlyhallows:part2',\n",
       " 'godzilla',\n",
       " 'miracleintherain',\n",
       " 'troublewiththecurve',\n",
       " 'theaccountant',\n",
       " 'cats&dogs:therevengeofkittygalore',\n",
       " 'thegreatrace',\n",
       " 'saratogatrunk',\n",
       " 'theintern',\n",
       " 'godzilla:kingofthemonsters',\n",
       " 'fantasticbeastsandwheretofindthem',\n",
       " \"ocean's8\",\n",
       " 'serenade',\n",
       " 'helenoftroy',\n",
       " 'unknown',\n",
       " \"legendoftheguardians:theowlsofga'hoole\",\n",
       " 'bandofangels',\n",
       " 'fantasticbeasts:thecrimesofgrindelwald',\n",
       " 'manofsteel',\n",
       " 'themule',\n",
       " 'argo']"
      ]
     },
     "execution_count": 16,
     "metadata": {},
     "output_type": "execute_result"
    }
   ],
   "source": [
    "[''.join(eachmovie[0].lower().split()) for eachmovie in wb_weblist]"
   ]
  },
  {
   "cell_type": "code",
   "execution_count": 11,
   "metadata": {},
   "outputs": [
    {
     "data": {
      "text/plain": [
       "'harry potter and the deathly hallows: part i'"
      ]
     },
     "execution_count": 11,
     "metadata": {},
     "output_type": "execute_result"
    }
   ],
   "source": [
    "'''Harry Potter and the Deathly Hallows: Part I'.lower()"
   ]
  },
  {
   "cell_type": "code",
   "execution_count": 7,
   "metadata": {},
   "outputs": [
    {
     "data": {
      "text/plain": [
       "{'movieInfoResult': {'movieInfo': {'movieCd': '20125048',\n",
       "   'movieNm': '호빗: 뜻밖의 여정',\n",
       "   'movieNmEn': 'The Hobbit: An Unexpected Journey',\n",
       "   'movieNmOg': '',\n",
       "   'showTm': '169',\n",
       "   'prdtYear': '2012',\n",
       "   'openDt': '20121213',\n",
       "   'prdtStatNm': '개봉',\n",
       "   'typeNm': '장편',\n",
       "   'nations': [{'nationNm': '미국'}, {'nationNm': '뉴질랜드'}],\n",
       "   'genres': [{'genreNm': '어드벤처'}, {'genreNm': '판타지'}],\n",
       "   'directors': [{'peopleNm': '피터 잭슨', 'peopleNmEn': 'Peter Jackson'}],\n",
       "   'actors': [{'peopleNm': '마틴 프리먼',\n",
       "     'peopleNmEn': 'Martin Freeman',\n",
       "     'cast': '빌보 배긴스',\n",
       "     'castEn': 'Bilbo Baggins'},\n",
       "    {'peopleNm': '이안 맥켈런',\n",
       "     'peopleNmEn': 'Ian McKellen',\n",
       "     'cast': '간달프',\n",
       "     'castEn': 'Gandalf'},\n",
       "    {'peopleNm': '리차드 아미티지',\n",
       "     'peopleNmEn': 'Richard Armitage',\n",
       "     'cast': '',\n",
       "     'castEn': ''},\n",
       "    {'peopleNm': '케이트 블란쳇',\n",
       "     'peopleNmEn': 'Cate Blanchett',\n",
       "     'cast': '',\n",
       "     'castEn': ''},\n",
       "    {'peopleNm': '크리스토퍼 리',\n",
       "     'peopleNmEn': 'Christopher Lee',\n",
       "     'cast': '',\n",
       "     'castEn': ''},\n",
       "    {'peopleNm': '일라이저 우드',\n",
       "     'peopleNmEn': 'Elijah Wood',\n",
       "     'cast': '',\n",
       "     'castEn': ''},\n",
       "    {'peopleNm': '앤디 서키스',\n",
       "     'peopleNmEn': 'Andy Serkis',\n",
       "     'cast': '',\n",
       "     'castEn': ''},\n",
       "    {'peopleNm': '휴고 위빙',\n",
       "     'peopleNmEn': 'Hugo Weaving',\n",
       "     'cast': '',\n",
       "     'castEn': ''},\n",
       "    {'peopleNm': '베네딕트 컴버배치',\n",
       "     'peopleNmEn': 'Benedict Cumberbatch',\n",
       "     'cast': '',\n",
       "     'castEn': ''}],\n",
       "   'showTypes': [{'showTypeGroupNm': '필름', 'showTypeNm': '필름'},\n",
       "    {'showTypeGroupNm': '2D', 'showTypeNm': '디지털'},\n",
       "    {'showTypeGroupNm': '3D', 'showTypeNm': '3D HFR'},\n",
       "    {'showTypeGroupNm': '3D', 'showTypeNm': '3D 디지털'},\n",
       "    {'showTypeGroupNm': '4D', 'showTypeNm': '4D'},\n",
       "    {'showTypeGroupNm': 'IMAX', 'showTypeNm': 'IMAX HFR'},\n",
       "    {'showTypeGroupNm': 'IMAX', 'showTypeNm': 'IMAX 3D'},\n",
       "    {'showTypeGroupNm': 'IMAX', 'showTypeNm': 'IMAX HRF 3D'}],\n",
       "   'companys': [{'companyCd': '20100043',\n",
       "     'companyNm': '워너브러더스 코리아(주)',\n",
       "     'companyNmEn': 'Warner Bros. Korea',\n",
       "     'companyPartNm': '배급사'},\n",
       "    {'companyCd': '20100043',\n",
       "     'companyNm': '워너브러더스 코리아(주)',\n",
       "     'companyNmEn': 'Warner Bros. Korea',\n",
       "     'companyPartNm': '수입사'}],\n",
       "   'audits': [{'auditNo': '2012-F941 ', 'watchGradeNm': '12세이상관람가'}],\n",
       "   'staffs': []},\n",
       "  'source': '영화진흥위원회'}}"
      ]
     },
     "execution_count": 7,
     "metadata": {},
     "output_type": "execute_result"
    }
   ],
   "source": [
    "json.loads(urllib.request.urlopen(movie_info.format(key=key_minvv23, movie_code=movie_codes[100])).read())"
   ]
  }
 ],
 "metadata": {
  "kernelspec": {
   "display_name": "Python 3",
   "language": "python",
   "name": "python3"
  },
  "language_info": {
   "codemirror_mode": {
    "name": "ipython",
    "version": 3
   },
   "file_extension": ".py",
   "mimetype": "text/x-python",
   "name": "python",
   "nbconvert_exporter": "python",
   "pygments_lexer": "ipython3",
   "version": "3.7.3"
  }
 },
 "nbformat": 4,
 "nbformat_minor": 2
}
