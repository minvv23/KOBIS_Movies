{
 "cells": [
  {
   "cell_type": "code",
   "execution_count": 53,
   "metadata": {},
   "outputs": [],
   "source": [
    "from bs4 import BeautifulSoup\n",
    "from IPython.display import clear_output\n",
    "from datetime import date, datetime, timedelta\n",
    "from tqdm import tqdm\n",
    "import urllib, urllib3\n",
    "import requests, urllib.request, urllib.parse, csv, re, time, os, numpy as np, pandas as pd, json\n",
    "key_minvv23 = '290dac7fcac7c640c069ced9e576bc00'"
   ]
  },
  {
   "cell_type": "code",
   "execution_count": 54,
   "metadata": {},
   "outputs": [],
   "source": [
    "company_basicurl = 'http://kobis.or.kr/kobisopenapi/webservice/rest/company/searchCompanyList.json?key={key}&companyNm={company}'\n",
    "company_detailurl = 'http://kobis.or.kr/kobisopenapi/webservice/rest/company/searchCompanyInfo.json?key={key}&companyCd={companycode}'\n",
    "warner_search = json.loads(urllib.request.urlopen(company_basicurl.format(key=key_minvv23, company='Warner')).read())\n",
    "warner_codes = [each['companyCd'] for each in warner_search['companyListResult']['companyList'][:2]]"
   ]
  },
  {
   "cell_type": "code",
   "execution_count": 79,
   "metadata": {},
   "outputs": [],
   "source": [
    "movie_codes = []\n",
    "\n",
    "for each_companycode in warner_codes :\n",
    "    warner_info = json.loads(urllib.request.urlopen(company_detailurl.format(key=key_minvv23, companycode=each_companycode)).read())\n",
    "    for each in warner_info['companyInfoResult']['companyInfo']['filmos'] :\n",
    "        movie_codes.append(int(each['movieCd']))\n",
    "\n",
    "movie_codes = list(filter(lambda x : x>20100000, set(movie_codes)))"
   ]
  },
  {
   "cell_type": "code",
   "execution_count": 80,
   "metadata": {},
   "outputs": [],
   "source": [
    "movie_info = 'http://www.kobis.or.kr/kobisopenapi/webservice/rest/movie/searchMovieInfo.json?key={key}&movieCd={movie_code}'"
   ]
  },
  {
   "cell_type": "code",
   "execution_count": 81,
   "metadata": {},
   "outputs": [],
   "source": [
    "wb_weblist = []\n",
    "for each_code in movie_codes :\n",
    "    movieapi = json.loads(urllib.request.urlopen(movie_info.format(key=key_minvv23, movie_code=each_code)).read())\n",
    "    wb_weblist.append([movieapi['movieInfoResult']['movieInfo']['movieNmEn'], movieapi['movieInfoResult']['movieInfo']['movieCd']])"
   ]
  },
  {
   "cell_type": "code",
   "execution_count": 82,
   "metadata": {},
   "outputs": [],
   "source": [
    "wb_csvlist = pd.read_csv('WB_Movies.csv')\n",
    "wb_csvlist['theater_release'] = np.vectorize(lambda x : ''.join(re.findall(r'\\d+', x)))(wb_csvlist['theater_release'].values)\n",
    "wb_csvlist['vod_release'] = np.vectorize(lambda x : ''.join(re.findall(r'\\d+', x)))(wb_csvlist['vod_release'].values)"
   ]
  },
  {
   "cell_type": "code",
   "execution_count": 87,
   "metadata": {},
   "outputs": [
    {
     "data": {
      "text/plain": [
       "{'movieInfoResult': {'movieInfo': {'movieCd': '20125048',\n",
       "   'movieNm': '호빗: 뜻밖의 여정',\n",
       "   'movieNmEn': 'The Hobbit: An Unexpected Journey',\n",
       "   'movieNmOg': '',\n",
       "   'showTm': '169',\n",
       "   'prdtYear': '2012',\n",
       "   'openDt': '20121213',\n",
       "   'prdtStatNm': '개봉',\n",
       "   'typeNm': '장편',\n",
       "   'nations': [{'nationNm': '미국'}, {'nationNm': '뉴질랜드'}],\n",
       "   'genres': [{'genreNm': '어드벤처'}, {'genreNm': '판타지'}],\n",
       "   'directors': [{'peopleNm': '피터 잭슨', 'peopleNmEn': 'Peter Jackson'}],\n",
       "   'actors': [{'peopleNm': '마틴 프리먼',\n",
       "     'peopleNmEn': 'Martin Freeman',\n",
       "     'cast': '빌보 배긴스',\n",
       "     'castEn': 'Bilbo Baggins'},\n",
       "    {'peopleNm': '이안 맥켈런',\n",
       "     'peopleNmEn': 'Ian McKellen',\n",
       "     'cast': '간달프',\n",
       "     'castEn': 'Gandalf'},\n",
       "    {'peopleNm': '리차드 아미티지',\n",
       "     'peopleNmEn': 'Richard Armitage',\n",
       "     'cast': '',\n",
       "     'castEn': ''},\n",
       "    {'peopleNm': '케이트 블란쳇',\n",
       "     'peopleNmEn': 'Cate Blanchett',\n",
       "     'cast': '',\n",
       "     'castEn': ''},\n",
       "    {'peopleNm': '크리스토퍼 리',\n",
       "     'peopleNmEn': 'Christopher Lee',\n",
       "     'cast': '',\n",
       "     'castEn': ''},\n",
       "    {'peopleNm': '일라이저 우드',\n",
       "     'peopleNmEn': 'Elijah Wood',\n",
       "     'cast': '',\n",
       "     'castEn': ''},\n",
       "    {'peopleNm': '앤디 서키스',\n",
       "     'peopleNmEn': 'Andy Serkis',\n",
       "     'cast': '',\n",
       "     'castEn': ''},\n",
       "    {'peopleNm': '휴고 위빙',\n",
       "     'peopleNmEn': 'Hugo Weaving',\n",
       "     'cast': '',\n",
       "     'castEn': ''},\n",
       "    {'peopleNm': '베네딕트 컴버배치',\n",
       "     'peopleNmEn': 'Benedict Cumberbatch',\n",
       "     'cast': '',\n",
       "     'castEn': ''}],\n",
       "   'showTypes': [{'showTypeGroupNm': '필름', 'showTypeNm': '필름'},\n",
       "    {'showTypeGroupNm': '2D', 'showTypeNm': '디지털'},\n",
       "    {'showTypeGroupNm': '3D', 'showTypeNm': '3D HFR'},\n",
       "    {'showTypeGroupNm': '3D', 'showTypeNm': '3D 디지털'},\n",
       "    {'showTypeGroupNm': '4D', 'showTypeNm': '4D'},\n",
       "    {'showTypeGroupNm': 'IMAX', 'showTypeNm': 'IMAX HFR'},\n",
       "    {'showTypeGroupNm': 'IMAX', 'showTypeNm': 'IMAX 3D'},\n",
       "    {'showTypeGroupNm': 'IMAX', 'showTypeNm': 'IMAX HRF 3D'}],\n",
       "   'companys': [{'companyCd': '20100043',\n",
       "     'companyNm': '워너브러더스 코리아(주)',\n",
       "     'companyNmEn': 'Warner Bros. Korea',\n",
       "     'companyPartNm': '배급사'},\n",
       "    {'companyCd': '20100043',\n",
       "     'companyNm': '워너브러더스 코리아(주)',\n",
       "     'companyNmEn': 'Warner Bros. Korea',\n",
       "     'companyPartNm': '수입사'}],\n",
       "   'audits': [{'auditNo': '2012-F941 ', 'watchGradeNm': '12세이상관람가'}],\n",
       "   'staffs': []},\n",
       "  'source': '영화진흥위원회'}}"
      ]
     },
     "execution_count": 87,
     "metadata": {},
     "output_type": "execute_result"
    }
   ],
   "source": [
    "json.loads(urllib.request.urlopen(movie_info.format(key=key_minvv23, movie_code=movie_codes[100])).read())"
   ]
  },
  {
   "cell_type": "code",
   "execution_count": 90,
   "metadata": {},
   "outputs": [
    {
     "data": {
      "text/html": [
       "<div>\n",
       "<style scoped>\n",
       "    .dataframe tbody tr th:only-of-type {\n",
       "        vertical-align: middle;\n",
       "    }\n",
       "\n",
       "    .dataframe tbody tr th {\n",
       "        vertical-align: top;\n",
       "    }\n",
       "\n",
       "    .dataframe thead th {\n",
       "        text-align: right;\n",
       "    }\n",
       "</style>\n",
       "<table border=\"1\" class=\"dataframe\">\n",
       "  <thead>\n",
       "    <tr style=\"text-align: right;\">\n",
       "      <th></th>\n",
       "      <th>name</th>\n",
       "      <th>admission</th>\n",
       "      <th>theater_release</th>\n",
       "      <th>vod_release</th>\n",
       "    </tr>\n",
       "  </thead>\n",
       "  <tbody>\n",
       "    <tr>\n",
       "      <th>0</th>\n",
       "      <td>American Sniper</td>\n",
       "      <td>345,782</td>\n",
       "      <td>20150114</td>\n",
       "      <td>20150416</td>\n",
       "    </tr>\n",
       "    <tr>\n",
       "      <th>1</th>\n",
       "      <td>Jupiter Ascending</td>\n",
       "      <td>309,842</td>\n",
       "      <td>20150205</td>\n",
       "      <td>20150507</td>\n",
       "    </tr>\n",
       "    <tr>\n",
       "      <th>2</th>\n",
       "      <td>Run all night</td>\n",
       "      <td>289,534</td>\n",
       "      <td>20150319</td>\n",
       "      <td>20150618</td>\n",
       "    </tr>\n",
       "    <tr>\n",
       "      <th>3</th>\n",
       "      <td>Mad Max: Fury Road</td>\n",
       "      <td>3,884,129</td>\n",
       "      <td>20150514</td>\n",
       "      <td>20150813</td>\n",
       "    </tr>\n",
       "    <tr>\n",
       "      <th>4</th>\n",
       "      <td>San Andreas</td>\n",
       "      <td>1,716,455</td>\n",
       "      <td>20150603</td>\n",
       "      <td>20150903</td>\n",
       "    </tr>\n",
       "  </tbody>\n",
       "</table>\n",
       "</div>"
      ],
      "text/plain": [
       "                 name  admission theater_release vod_release\n",
       "0     American Sniper    345,782        20150114    20150416\n",
       "1  Jupiter Ascending     309,842        20150205    20150507\n",
       "2       Run all night    289,534        20150319    20150618\n",
       "3  Mad Max: Fury Road  3,884,129        20150514    20150813\n",
       "4         San Andreas  1,716,455        20150603    20150903"
      ]
     },
     "execution_count": 90,
     "metadata": {},
     "output_type": "execute_result"
    }
   ],
   "source": [
    "wb_csvlist.head()"
   ]
  }
 ],
 "metadata": {
  "kernelspec": {
   "display_name": "Python 3",
   "language": "python",
   "name": "python3"
  },
  "language_info": {
   "codemirror_mode": {
    "name": "ipython",
    "version": 3
   },
   "file_extension": ".py",
   "mimetype": "text/x-python",
   "name": "python",
   "nbconvert_exporter": "python",
   "pygments_lexer": "ipython3",
   "version": "3.7.1"
  }
 },
 "nbformat": 4,
 "nbformat_minor": 2
}
