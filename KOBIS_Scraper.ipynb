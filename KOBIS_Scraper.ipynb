{
 "cells": [
  {
   "cell_type": "code",
   "execution_count": 70,
   "metadata": {},
   "outputs": [],
   "source": [
    "from bs4 import BeautifulSoup\n",
    "from IPython.display import clear_output\n",
    "from datetime import date, datetime, timedelta\n",
    "from tqdm import tqdm\n",
    "import urllib, urllib3\n",
    "import requests, urllib.request, urllib.parse, csv, re, time, os, numpy as np, pandas as pd, json\n",
    "from datetime import date, datetime, timedelta\n",
    "\n",
    "key_minvv23 = '290dac7fcac7c640c069ced9e576bc00'"
   ]
  },
  {
   "cell_type": "code",
   "execution_count": 2,
   "metadata": {},
   "outputs": [],
   "source": [
    "company_basicurl = 'http://kobis.or.kr/kobisopenapi/webservice/rest/company/searchCompanyList.json?key={key}&companyNm={company}'\n",
    "company_detailurl = 'http://kobis.or.kr/kobisopenapi/webservice/rest/company/searchCompanyInfo.json?key={key}&companyCd={companycode}'\n",
    "warner_search = json.loads(urllib.request.urlopen(company_basicurl.format(key=key_minvv23, company='Warner')).read())\n",
    "warner_codes = [each['companyCd'] for each in warner_search['companyListResult']['companyList'][:2]]"
   ]
  },
  {
   "cell_type": "code",
   "execution_count": 3,
   "metadata": {},
   "outputs": [],
   "source": [
    "movie_codes = []\n",
    "\n",
    "for each_companycode in warner_codes :\n",
    "    warner_info = json.loads(urllib.request.urlopen(company_detailurl.format(key=key_minvv23, companycode=each_companycode)).read())\n",
    "    for each in warner_info['companyInfoResult']['companyInfo']['filmos'] :\n",
    "        movie_codes.append(int(each['movieCd']))\n",
    "\n",
    "movie_codes = list(filter(lambda x : x>20100000, set(movie_codes)))"
   ]
  },
  {
   "cell_type": "code",
   "execution_count": 4,
   "metadata": {},
   "outputs": [],
   "source": [
    "movie_info = 'http://www.kobis.or.kr/kobisopenapi/webservice/rest/movie/searchMovieInfo.json?key={key}&movieCd={movie_code}'"
   ]
  },
  {
   "cell_type": "code",
   "execution_count": 5,
   "metadata": {},
   "outputs": [],
   "source": [
    "wb_weblist = []\n",
    "for each_code in movie_codes :\n",
    "    movieapi = json.loads(urllib.request.urlopen(movie_info.format(key=key_minvv23, movie_code=each_code)).read())\n",
    "    wb_weblist.append([movieapi['movieInfoResult']['movieInfo']['movieNmEn'], movieapi['movieInfoResult']['movieInfo']['movieCd']])"
   ]
  },
  {
   "cell_type": "code",
   "execution_count": 6,
   "metadata": {},
   "outputs": [],
   "source": [
    "wb_csvlist = pd.read_csv('WB_Movies.csv')\n",
    "wb_csvlist['theater_release'] = np.vectorize(lambda x : ''.join(re.findall(r'\\d+', x)))(wb_csvlist['theater_release'].values)\n",
    "wb_csvlist['vod_release'] = np.vectorize(lambda x : ''.join(re.findall(r'\\d+', x)))(wb_csvlist['vod_release'].values)"
   ]
  },
  {
   "cell_type": "code",
   "execution_count": 7,
   "metadata": {},
   "outputs": [],
   "source": [
    "for each_movie in wb_weblist :\n",
    "    each_movie.append(''.join(each_movie[0].lower().split()))"
   ]
  },
  {
   "cell_type": "code",
   "execution_count": 44,
   "metadata": {},
   "outputs": [],
   "source": [
    "listforcodejoin = []\n",
    "for each_csvmovie in wb_csvlist.name :\n",
    "    shortcsv = ''.join(each_csvmovie.lower().split())\n",
    "    for fullweb, codeweb, shortweb in wb_weblist :\n",
    "        if shortweb == shortcsv :\n",
    "            listforcodejoin.append((each_csvmovie, codeweb))\n",
    "listforcodejoin = pd.DataFrame.from_records(listforcodejoin)\n",
    "listforcodejoin.columns = ['name', 'movieCd']"
   ]
  },
  {
   "cell_type": "code",
   "execution_count": 50,
   "metadata": {},
   "outputs": [],
   "source": [
    "#pd.merge(wb_csvlist, listforcodejoin, how='outer').to_csv('UPDATED_WB_Movies.csv')"
   ]
  },
  {
   "cell_type": "code",
   "execution_count": 80,
   "metadata": {},
   "outputs": [
    {
     "data": {
      "text/html": [
       "<div>\n",
       "<style scoped>\n",
       "    .dataframe tbody tr th:only-of-type {\n",
       "        vertical-align: middle;\n",
       "    }\n",
       "\n",
       "    .dataframe tbody tr th {\n",
       "        vertical-align: top;\n",
       "    }\n",
       "\n",
       "    .dataframe thead th {\n",
       "        text-align: right;\n",
       "    }\n",
       "</style>\n",
       "<table border=\"1\" class=\"dataframe\">\n",
       "  <thead>\n",
       "    <tr style=\"text-align: right;\">\n",
       "      <th></th>\n",
       "      <th>Unnamed: 0</th>\n",
       "      <th>name</th>\n",
       "      <th>admission</th>\n",
       "      <th>theater_release</th>\n",
       "      <th>vod_release</th>\n",
       "      <th>movieCd</th>\n",
       "    </tr>\n",
       "  </thead>\n",
       "  <tbody>\n",
       "    <tr>\n",
       "      <th>0</th>\n",
       "      <td>0</td>\n",
       "      <td>American Sniper</td>\n",
       "      <td>345782</td>\n",
       "      <td>20150114</td>\n",
       "      <td>20150416</td>\n",
       "      <td>20143754</td>\n",
       "    </tr>\n",
       "    <tr>\n",
       "      <th>1</th>\n",
       "      <td>1</td>\n",
       "      <td>Jupiter Ascending</td>\n",
       "      <td>309842</td>\n",
       "      <td>20150205</td>\n",
       "      <td>20150507</td>\n",
       "      <td>20149037</td>\n",
       "    </tr>\n",
       "    <tr>\n",
       "      <th>2</th>\n",
       "      <td>2</td>\n",
       "      <td>Run all night</td>\n",
       "      <td>289534</td>\n",
       "      <td>20150319</td>\n",
       "      <td>20150618</td>\n",
       "      <td>20157041</td>\n",
       "    </tr>\n",
       "    <tr>\n",
       "      <th>3</th>\n",
       "      <td>3</td>\n",
       "      <td>Mad Max: Fury Road</td>\n",
       "      <td>3884129</td>\n",
       "      <td>20150514</td>\n",
       "      <td>20150813</td>\n",
       "      <td>20144741</td>\n",
       "    </tr>\n",
       "    <tr>\n",
       "      <th>4</th>\n",
       "      <td>4</td>\n",
       "      <td>San Andreas</td>\n",
       "      <td>1716455</td>\n",
       "      <td>20150603</td>\n",
       "      <td>20150903</td>\n",
       "      <td>20144682</td>\n",
       "    </tr>\n",
       "  </tbody>\n",
       "</table>\n",
       "</div>"
      ],
      "text/plain": [
       "   Unnamed: 0                name  admission  theater_release  vod_release  \\\n",
       "0           0     American Sniper     345782         20150114     20150416   \n",
       "1           1  Jupiter Ascending      309842         20150205     20150507   \n",
       "2           2       Run all night     289534         20150319     20150618   \n",
       "3           3  Mad Max: Fury Road    3884129         20150514     20150813   \n",
       "4           4         San Andreas    1716455         20150603     20150903   \n",
       "\n",
       "    movieCd  \n",
       "0  20143754  \n",
       "1  20149037  \n",
       "2  20157041  \n",
       "3  20144741  \n",
       "4  20144682  "
      ]
     },
     "execution_count": 80,
     "metadata": {},
     "output_type": "execute_result"
    }
   ],
   "source": [
    "upd_wbcsvlist = pd.read_csv('UPDATED_WB_Movies.csv')\n",
    "upd_wbcsvlist.head()"
   ]
  },
  {
   "cell_type": "code",
   "execution_count": 86,
   "metadata": {},
   "outputs": [],
   "source": [
    "boxofficeurl = 'http://www.kobis.or.kr/kobisopenapi/webservice/rest/boxoffice/searchDailyBoxOfficeList.json?key={key}&targetDt={date}'\n",
    "date_list = [(datetime.strptime(str(20150101),'%Y%m%d') + timedelta(days=x)).strftime('%Y%m%d')\n",
    "             for x in range(0, (datetime.strptime(str(20190531),'%Y%m%d')-datetime.strptime(str(20150101),'%Y%m%d')).days+1)]"
   ]
  },
  {
   "cell_type": "code",
   "execution_count": 154,
   "metadata": {},
   "outputs": [
    {
     "name": "stderr",
     "output_type": "stream",
     "text": [
      "100%|██████████| 25/25 [00:16<00:00,  1.54it/s]\n"
     ]
    }
   ],
   "source": [
    "dailyboxoffice_list = []\n",
    "\n",
    "for each_date in tqdm(date_list[25:50]) :\n",
    "    dailyrecord = json.loads(urllib.request.urlopen(boxofficeurl.format(key=key_minvv23, date=each_date)).read())\n",
    "    for each_boxoffice in dailyrecord['boxOfficeResult']['dailyBoxOfficeList'] :\n",
    "        moviedict = {}\n",
    "        if int(each_boxoffice['movieCd']) in list(upd_wbcsvlist['movieCd']) :\n",
    "            moviedict['date'] = each_date\n",
    "            moviedict['movieCd'] = each_boxoffice['movieCd']\n",
    "            moviedict['salesAmt'] = each_boxoffice['salesAmt']\n",
    "            dailyboxoffice_list.append(moviedict)"
   ]
  },
  {
   "cell_type": "code",
   "execution_count": 155,
   "metadata": {},
   "outputs": [
    {
     "data": {
      "text/plain": [
       "[{'date': '20150126', 'movieCd': '20143754', 'salesAmt': '48168200'},\n",
       " {'date': '20150127', 'movieCd': '20143754', 'salesAmt': '49987700'},\n",
       " {'date': '20150202', 'movieCd': '20143754', 'salesAmt': '34449900'},\n",
       " {'date': '20150204', 'movieCd': '20143754', 'salesAmt': '39147700'},\n",
       " {'date': '20150205', 'movieCd': '20149037', 'salesAmt': '376906800'},\n",
       " {'date': '20150206', 'movieCd': '20149037', 'salesAmt': '394072943'},\n",
       " {'date': '20150206', 'movieCd': '20143754', 'salesAmt': '27869000'},\n",
       " {'date': '20150207', 'movieCd': '20149037', 'salesAmt': '788448636'},\n",
       " {'date': '20150208', 'movieCd': '20149037', 'salesAmt': '660648900'},\n",
       " {'date': '20150209', 'movieCd': '20149037', 'salesAmt': '152371300'},\n",
       " {'date': '20150209', 'movieCd': '20143754', 'salesAmt': '15900600'},\n",
       " {'date': '20150210', 'movieCd': '20149037', 'salesAmt': '147095100'},\n",
       " {'date': '20150211', 'movieCd': '20149037', 'salesAmt': '27052500'}]"
      ]
     },
     "execution_count": 155,
     "metadata": {},
     "output_type": "execute_result"
    }
   ],
   "source": [
    "dailyboxoffice_list"
   ]
  }
 ],
 "metadata": {
  "kernelspec": {
   "display_name": "Python 3",
   "language": "python",
   "name": "python3"
  },
  "language_info": {
   "codemirror_mode": {
    "name": "ipython",
    "version": 3
   },
   "file_extension": ".py",
   "mimetype": "text/x-python",
   "name": "python",
   "nbconvert_exporter": "python",
   "pygments_lexer": "ipython3",
   "version": "3.7.1"
  }
 },
 "nbformat": 4,
 "nbformat_minor": 2
}
